{
 "cells": [
  {
   "cell_type": "markdown",
   "id": "d19fac66",
   "metadata": {},
   "source": [
    "## Cogniswitch ToolSpec\n",
    "\n",
    "**Use cogniswitch to have chat with your knowledge in just three steps**\n",
    "\n",
    "visit https://www.cogniswitch.ai/developer.<br>\n",
    "\n",
    "**Registration:**\n",
    "- Signup with your email and verify your registration\n",
    "- You will get a mail with a platform token and oauth token for using the services.\n",
    "\n",
    "\n",
    "**step 1: Instantiate the Cogniswitch ToolSpec:**<br>\n",
    "- Use your cogniswitch token, openAI API key, oauth token to instantiate the toolspec. <br> \n",
    "\n",
    "**step 2: Cogniswitch Store data:**<br>\n",
    "- use store_data function in the toolspec and input your file or url. <br>\n",
    "- it will be processed and stored in your knowledge store. <br> \n",
    "- you can check the status of document processing in cogniswitch console. <br>\n",
    "\n",
    "**step 3: Cogniswitch Answer:**<br>\n",
    "- Use query_knowledge function in the toolspec and input your query. <br>\n",
    "- You will get the answer from your knowledge as the response. <br>\n"
   ]
  },
  {
   "cell_type": "markdown",
   "id": "ce6a1c44",
   "metadata": {},
   "source": [
    "### Import Required Libraries"
   ]
  },
  {
   "cell_type": "code",
   "execution_count": 1,
   "id": "eaeca557",
   "metadata": {},
   "outputs": [],
   "source": [
    "import warnings\n",
    "\n",
    "warnings.filterwarnings(\"ignore\")\n",
    "from llama_hub.tools import CogniswitchToolSpec"
   ]
  },
  {
   "cell_type": "markdown",
   "id": "eecaa97a",
   "metadata": {},
   "source": [
    "### Cogniswitch Credentials and OpenAI token"
   ]
  },
  {
   "cell_type": "code",
   "execution_count": 2,
   "id": "67ddc803",
   "metadata": {},
   "outputs": [],
   "source": [
    "# cs_token = <your cogniswitch platform token>\n",
    "# OAI_token = <your openai token>\n",
    "# oauth_token = <your cogniswitch apikey>"
   ]
  },
  {
   "cell_type": "markdown",
   "id": "7a6db5a6",
   "metadata": {},
   "source": [
    "### Instantiate the Tool Spec"
   ]
  },
  {
   "cell_type": "code",
   "execution_count": 2,
   "id": "38c9c80a",
   "metadata": {},
   "outputs": [],
   "source": [
    "toolspec = CogniswitchToolSpec(\n",
    "    cs_token=cs_token, OAI_token=OAI_token, apiKey=oauth_token\n",
    ")"
   ]
  },
  {
   "cell_type": "markdown",
   "id": "577c961e",
   "metadata": {},
   "source": [
    "### Use the Tool Spec for storing data in cogniswitch with a single call"
   ]
  },
  {
   "cell_type": "code",
   "execution_count": 4,
   "id": "adcb8b53",
   "metadata": {},
   "outputs": [
    {
     "name": "stdout",
     "output_type": "stream",
     "text": [
      "{'data': {'knowledgeSourceId': 42, 'sourceType': 'https://cogniswitch.ai/dev', 'sourceURL': None, 'sourceFileName': None, 'sourceName': 'Cogniswitch dev', 'sourceDescription': 'This is a cogniswitch website for developers.', 'status': 'UPLOADED'}, 'list': None, 'message': \"We're processing your content & will send you an email on completion, hang tight!\", 'statusCode': 1000}\n"
     ]
    }
   ],
   "source": [
    "store_response = toolspec.store_data(\n",
    "    url=\"https://cogniswitch.ai/dev\",\n",
    "    document_name=\"Cogniswitch dev\",\n",
    "    document_description=\"This is a cogniswitch website for developers.\",\n",
    ")\n",
    "print(store_response)"
   ]
  },
  {
   "cell_type": "markdown",
   "id": "52ddf809",
   "metadata": {},
   "source": [
    "### Use Tool Spec for answering using the query knowledge with a single call"
   ]
  },
  {
   "cell_type": "code",
   "execution_count": 5,
   "id": "2544cdc9",
   "metadata": {},
   "outputs": [
    {
     "name": "stdout",
     "output_type": "stream",
     "text": [
      "{'data': {'answer': 'CogniSwitch is a technology platform that enhances the reliability of Generative AI applications for enterprises. It does this by gathering and organizing knowledge from documented sources, eliminating hallucinations and bias in AI responses. The platform uses AI to automatically gather and organize knowledge, which can then be reviewed and curated by experts before being published. The CogniSwitch API enables Gen AI applications to access this knowledge as needed, ensuring reliability. It is specifically designed to complement Generative AI and offers customized solutions for different business functions within an enterprise.'}, 'list': None, 'message': None, 'statusCode': 1000}\n"
     ]
    }
   ],
   "source": [
    "answer_response = toolspec.query_knowledge(\"tell me about cogniswitch\")\n",
    "print(answer_response)"
   ]
  },
  {
   "cell_type": "code",
   "execution_count": null,
   "id": "85dbdc99",
   "metadata": {},
   "outputs": [],
   "source": []
  }
 ],
 "metadata": {
  "kernelspec": {
   "display_name": "llama_index_env",
   "language": "python",
   "name": "llama_index_env"
  },
  "language_info": {
   "codemirror_mode": {
    "name": "ipython",
    "version": 3
   },
   "file_extension": ".py",
   "mimetype": "text/x-python",
   "name": "python",
   "nbconvert_exporter": "python",
   "pygments_lexer": "ipython3",
   "version": "3.9.18"
  }
 },
 "nbformat": 4,
 "nbformat_minor": 5
}
