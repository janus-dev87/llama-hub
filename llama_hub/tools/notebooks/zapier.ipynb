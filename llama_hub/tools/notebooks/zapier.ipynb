{
 "cells": [
  {
   "cell_type": "code",
   "execution_count": 1,
   "id": "768a5d2c-89a0-490c-9f0e-3b416f37e475",
   "metadata": {},
   "outputs": [],
   "source": [
    "import openai\n",
    "openai.api_key = 'sk-your-key'\n",
    "from llama_index.agent import OpenAIAgent"
   ]
  },
  {
   "cell_type": "code",
   "execution_count": 2,
   "id": "8a6fac5f-861d-4ac3-a03c-7f3402f12772",
   "metadata": {},
   "outputs": [],
   "source": [
    "# Import and initialize our tool spec\n",
    "from llama_hub.tools.zapier.base import ZapierToolSpec\n",
    "zapier_spec = ZapierToolSpec(api_key=\"sk-ak-your-key\")\n",
    "tools = zapier_spec.to_tool_list()\n",
    "# Create the Agent with our tools\n",
    "agent = OpenAIAgent.from_tools(tools, verbose=True)"
   ]
  },
  {
   "cell_type": "code",
   "execution_count": 3,
   "id": "592140e7-8fef-4d59-974d-61a87dea37cc",
   "metadata": {},
   "outputs": [
    {
     "name": "stdout",
     "output_type": "stream",
     "text": [
      "=== Calling Function ===\n",
      "Calling function: list_actions with args: {}\n",
      "Got output: {\"results\": [{\"id\": \"01H501Q5ZM6M1BCDG1C42Y5M6D\", \"operation_id\": \"google_drive_find_a_file_829303b\", \"description\": \"Google Drive: Find a File\", \"params\": {\"instructions\": \"str\", \"File_Name\": \"str\"}}, {\"id\": \"01H501D9BYXH8HA2H0N7G135KA\", \"operation_id\": \"google_sheets_find_worksheet_e5ec58b\", \"description\": \"Google Sheets: Find Worksheet\", \"params\": {\"instructions\": \"str\", \"Title\": \"str\", \"Spreadsheet\": \"str\"}}, {\"id\": \"01H50185DE5EAT2PMB5Q2ED753\", \"operation_id\": \"google_docs_find_a_document_3acdcbd\", \"description\": \"Google Docs: Find a Document\", \"params\": {\"instructions\": \"str\", \"Document_Name\": \"str\"}}], \"configuration_link\": \"https://nla.zapier.com/dev/actions/\"}\n",
      "========================\n"
     ]
    },
    {
     "data": {
      "text/plain": [
       "Response(response='Here are some of the available actions:\\n\\n1. Google Drive: Find a File\\n   - Description: Find a file in Google Drive\\n   - Parameters: instructions (str), File_Name (str)\\n   - [Configuration Link](https://nla.zapier.com/dev/actions/01H501Q5ZM6M1BCDG1C42Y5M6D)\\n\\n2. Google Sheets: Find Worksheet\\n   - Description: Find a worksheet in Google Sheets\\n   - Parameters: instructions (str), Title (str), Spreadsheet (str)\\n   - [Configuration Link](https://nla.zapier.com/dev/actions/01H501D9BYXH8HA2H0N7G135KA)\\n\\n3. Google Docs: Find a Document\\n   - Description: Find a document in Google Docs\\n   - Parameters: instructions (str), Document_Name (str)\\n   - [Configuration Link](https://nla.zapier.com/dev/actions/01H50185DE5EAT2PMB5Q2ED753)\\n\\nPlease let me know if you need more information about any of these actions.', source_nodes=[], metadata=None)"
      ]
     },
     "execution_count": 3,
     "metadata": {},
     "output_type": "execute_result"
    }
   ],
   "source": [
    "agent.chat('what actions are available')"
   ]
  },
  {
   "cell_type": "code",
   "execution_count": 4,
   "id": "c880f627-bd64-4ccb-b538-7da207ed07dd",
   "metadata": {},
   "outputs": [
    {
     "name": "stdout",
     "output_type": "stream",
     "text": [
      "=== Calling Function ===\n",
      "Calling function: natural_language_query with args: {\n",
      "  \"id\": \"01H501Q5ZM6M1BCDG1C42Y5M6D\",\n",
      "  \"instructions\": \"Find the taco night file in Google Drive\"\n",
      "}\n",
      "Got output: {\"id\": \"01H501SVE3KEMEWGH5JGAFF4XC\", \"action_used\": \"Google Drive: Find a File\", \"input_params\": {\"File_Name\": \"taco night\"}, \"review_url\": \"https://nla.zapier.com/execution/01H501SVE3KEMEWGH5JGAFF4XC/\", \"result\": {\"title\": \"Taco Night\", \"embedLink\": \"https://docs.google.com/spreadsheets/d/1TD5T_Fx1SC6U_mRmCRZEWkm7QhGsoXSMVz_F4K53j1Y/htmlembed?ouid=108027240866470727079\", \"alternateLink\": \"https://docs.google.com/spreadsheets/d/1TD5T_Fx1SC6U_mRmCRZEWkm7QhGsoXSMVz_F4K53j1Y/edit?usp=drivesdk\", \"owners[]displayName\": [\"Adam Hofmann\"], \"lastModifyingUserName\": \"Adam Hofmann\", \"file\": \"hydrate|||.eJw1jstOwzAQAH8F-cApagh5NlKFUCEcEEi04XmxLGeTmNpx5N2IQNV_xy3iOjs7u3sm7UAwEKfvEVjJrlnA1IAkBglcNaxMLtJllmd5wOSEZM2E4E6DKC2K5WUUB0xIaSef-KdFEnu9VaAbPghzzLZKgy_vvoTrkJV7NjntcU80YhmGjZW46KztNCykNSGODkSDPQBhCPNoHV2pZhXVN...\"}, \"additional_results\": [{\"title\": \"Taco Night\", \"embedLink\": \"https://docs.google.com/spreadsheets/d/1epE0A4eUMadAwyoAm6Y-JiwXndiCBhWBvtZdfozrz_g/htmlembed?ouid=108027240866470727079\", \"alternateLink\": \"https://docs.google.com/spreadsheets/d/1epE0A4eUMadAwyoAm6Y-JiwXndiCBhWBvtZdfozrz_g/edit?usp=drivesdk\", \"owners[]displayName\": [\"Slava Timbaliuc\"], \"lastModifyingUserName\": \"Joel Cheverie\", \"file\": \"hydrate|||.eJw1jk1PwzAMQP8KyoFTWVfWdV2lCXUIDkhwAvFxqaLETSOSuEpc2m3afycr4vr8_OwTE-gIHDV06IFVrGYJ0y4QdwIaLVmVL9fbYlNsEiaGQGiHAH4eZOuy3N5mq4RxIXCIiX9a5quotxqMbBy3l2yrDcTy98i9Cqw6scGbiDuiPlRpKlGEhUJUBhYCbRp6D1yGDoBCClOPnu603GXQ...\"}], \"result_field_labels\": {}, \"status\": \"success\", \"error\": null, \"assistant_hint\": null}\n",
      "========================\n"
     ]
    },
    {
     "data": {
      "text/plain": [
       "Response(response='I found the \"Taco Night\" file in Google Drive. Here are the details:\\n\\n- Title: Taco Night\\n- Owners: Adam Hofmann\\n- Last Modifying User: Adam Hofmann\\n- [Embed Link](https://docs.google.com/spreadsheets/d/1TD5T_Fx1SC6U_mRmCRZEWkm7QhGsoXSMVz_F4K53j1Y/htmlembed?ouid=108027240866470727079)\\n- [Alternate Link](https://docs.google.com/spreadsheets/d/1TD5T_Fx1SC6U_mRmCRZEWkm7QhGsoXSMVz_F4K53j1Y/edit?usp=drivesdk)\\n\\nPlease let me know if there\\'s anything else I can help with.', source_nodes=[], metadata=None)"
      ]
     },
     "execution_count": 4,
     "metadata": {},
     "output_type": "execute_result"
    }
   ],
   "source": [
    "agent.chat('Can you find the taco night file in google drive')"
   ]
  },
  {
   "cell_type": "code",
   "execution_count": null,
   "id": "bec7c340-8eb7-494b-9947-bdbe29806e2f",
   "metadata": {},
   "outputs": [],
   "source": []
  }
 ],
 "metadata": {
  "kernelspec": {
   "display_name": "Python 3 (ipykernel)",
   "language": "python",
   "name": "python3"
  },
  "language_info": {
   "codemirror_mode": {
    "name": "ipython",
    "version": 3
   },
   "file_extension": ".py",
   "mimetype": "text/x-python",
   "name": "python",
   "nbconvert_exporter": "python",
   "pygments_lexer": "ipython3",
   "version": "3.10.10"
  }
 },
 "nbformat": 4,
 "nbformat_minor": 5
}
