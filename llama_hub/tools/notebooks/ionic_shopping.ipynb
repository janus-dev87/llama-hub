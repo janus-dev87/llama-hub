{
 "cells": [
  {
   "cell_type": "markdown",
   "source": [
    "# Ionic Shopping Tool\n",
    "\n",
    "[Ionic](https://www.ioniccommerce.com/) is a plug and play ecommerce marketplace for AI Assistants. By using Ionic, you are effortlessly providing your users with the ability to shop and transact directly within your agent, and you'll get a cut of the transaction.\n",
    "\n",
    "This is a basic jupyter notebook demonstrating how to integrate the Ionic Shopping Tool. For more information on setting up your Agent with Ionic, see the Ionic [documentation](https://docs.ioniccommerce.com/introduction).\n",
    "\n",
    "This Jupyter Notebook demonstrates how to use the Ionic tool with an Agent.\n",
    "\n",
    "---\n",
    "\n",
    "## Setup the Tool\n",
    "### First, let's install our dependencies"
   ],
   "metadata": {
    "collapsed": false
   },
   "id": "8024471faac3a296"
  },
  {
   "cell_type": "code",
   "outputs": [],
   "source": [
    "!pip install llama-index llama-hub ionic-api-sdk"
   ],
   "metadata": {
    "collapsed": false
   },
   "id": "856d9803ec1cdd9c",
   "execution_count": null
  },
  {
   "cell_type": "markdown",
   "source": [
    "### Configure OpenAI"
   ],
   "metadata": {
    "collapsed": false
   },
   "id": "eedd002505e12801"
  },
  {
   "cell_type": "code",
   "execution_count": 2,
   "id": "initial_id",
   "metadata": {
    "collapsed": true,
    "ExecuteTime": {
     "end_time": "2024-01-29T22:46:08.765992Z",
     "start_time": "2024-01-29T22:46:07.725961Z"
    }
   },
   "outputs": [],
   "source": [
    "import openai\n",
    "from llama_index.agent import OpenAIAgent\n",
    "\n",
    "openai.api_key = \"sk-api-key\""
   ]
  },
  {
   "cell_type": "markdown",
   "source": [
    "### Import and configure the Ionic Shopping Tool "
   ],
   "metadata": {
    "collapsed": false
   },
   "id": "8506dd2f8e36cad4"
  },
  {
   "cell_type": "code",
   "outputs": [
    {
     "name": "stdout",
     "output_type": "stream",
     "text": [
      "query\n"
     ]
    }
   ],
   "source": [
    "from llama_hub.tools.ionic_shopping.base import IonicShoppingToolSpec\n",
    "\n",
    "# optionally add you Ionic API Key\n",
    "# IonicShoppingToolSpec(api_key=\"<my Ionic API Key>\")\n",
    "ionic_tool = IonicShoppingToolSpec().to_tool_list()\n",
    "\n",
    "for tool in ionic_tool:\n",
    "    print(tool.metadata.name)"
   ],
   "metadata": {
    "collapsed": false,
    "ExecuteTime": {
     "end_time": "2024-01-29T22:46:08.779746Z",
     "start_time": "2024-01-29T22:46:08.766351Z"
    }
   },
   "id": "f95ef80d8aa9bd5f",
   "execution_count": 3
  },
  {
   "cell_type": "markdown",
   "source": [
    "### Use Ionic"
   ],
   "metadata": {
    "collapsed": false
   },
   "id": "80b4d128986d4a9"
  },
  {
   "cell_type": "code",
   "outputs": [],
   "source": [
    "agent = OpenAIAgent.from_tools(\n",
    "    ionic_tool,\n",
    ")"
   ],
   "metadata": {
    "collapsed": false,
    "ExecuteTime": {
     "end_time": "2024-01-29T22:46:08.935312Z",
     "start_time": "2024-01-29T22:46:08.780878Z"
    }
   },
   "id": "18bd589c4fd6ef44",
   "execution_count": 4
  },
  {
   "cell_type": "code",
   "outputs": [
    {
     "name": "stdout",
     "output_type": "stream",
     "text": [
      "Query Query(query='5k monitor', max_price=100000, min_price=60000, num_results=3)\n",
      "Here are 3 options for a 5k monitor between $600 and $1000:\n",
      "\n",
      "1. SAMSUNG 27\" ViewFinity S9 Series 5K Computer Monitor - $999.99\n",
      "   - [Details](https://www.amazon.com/dp/B0CB71BY87?tag=ioniccommer00-20&linkCode=osi&th=1&psc=1)\n",
      "   - ![Thumbnail](https://m.media-amazon.com/images/I/41Wy2hc5P2L._SL160_.jpg)\n",
      "   - Brand: SAMSUNG\n",
      "   - Available on Amazon\n",
      "\n",
      "2. SAMSUNG 27\" Class QHD Curved Monitor - $699.99\n",
      "   - [Details](https://brwi.short.gy/qxJVZ6)\n",
      "   - ![Thumbnail](https://i5.walmartimages.com/asr/7794ed18-d65a-4996-abe0-82d2777c779c.5fab7f87d6e84f979a851f61049e549b.jpeg?odnHeight=100&odnWidth=100&odnBg=ffffff)\n",
      "   - Brand: Samsung\n",
      "   - UPC: 887276413129\n",
      "   - Available at Walmart\n",
      "\n",
      "3. SAMSUNG 27\" ViewFinity S9 Series 5K Computer Monitor (Open Box) - $749.99\n",
      "   - [Details](https://brwi.short.gy/YAYBuD)\n",
      "   - ![Thumbnail](https://i.ebayimg.com/thumbs/images/g/qWIAAOSwSxFlRQi2/s-l225.jpg)\n",
      "   - Available on eBay\n",
      "\n",
      "Please let me know if you need more information about any of these options.\n"
     ]
    }
   ],
   "source": [
    "print(\n",
    "    agent.chat(\n",
    "        \"I'm looking for a 5k monitor can you find me 3 options between $600 and $1000\"\n",
    "    )\n",
    ")"
   ],
   "metadata": {
    "collapsed": false,
    "ExecuteTime": {
     "end_time": "2024-01-29T22:46:55.891101Z",
     "start_time": "2024-01-29T22:46:37.542833Z"
    }
   },
   "id": "aa6ee6bd0b1c8f22",
   "execution_count": 6
  }
 ],
 "metadata": {
  "kernelspec": {
   "display_name": "Python 3",
   "language": "python",
   "name": "python3"
  },
  "language_info": {
   "codemirror_mode": {
    "name": "ipython",
    "version": 2
   },
   "file_extension": ".py",
   "mimetype": "text/x-python",
   "name": "python",
   "nbconvert_exporter": "python",
   "pygments_lexer": "ipython2",
   "version": "2.7.6"
  }
 },
 "nbformat": 4,
 "nbformat_minor": 5
}
