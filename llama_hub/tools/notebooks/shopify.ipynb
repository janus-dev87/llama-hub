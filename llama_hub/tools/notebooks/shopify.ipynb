{
 "cells": [
  {
   "cell_type": "code",
   "execution_count": 1,
   "id": "9b92525f-45cd-4889-a90a-54806076ec3c",
   "metadata": {},
   "outputs": [],
   "source": [
    "# Setup OpenAI with credentials\n",
    "import openai\n",
    "openai.api_key = 'sk-your-key'"
   ]
  },
  {
   "cell_type": "markdown",
   "id": "30c4131a-59a0-4989-af61-59e142c702ff",
   "metadata": {},
   "source": [
    "## Leveraging the GraphQL schema in our Agent\n",
    "\n",
    "\n",
    "The `graphql.txt` file is a Schema Definition Langauge file, but we store it as a txt file to pass it into the **UnstructuredReader** later.\n",
    "\n",
    "The schema was retrieved using the `apollo client:download-schema` command: `apollo client:download-schema download3.json --endpoint=https://your-store.myshopify.com/admin/api/2023-01/graphql.json --header=\"X-Shopify-Access-Token: your-token\"`\n",
    "\n",
    "All in all, the file is over 50,000 lines and close to 1.5 million characters, well beyond what we could hope to process directly with any Large Language Model. Instead, we have to get creative with how we will process and retrieve it.\n",
    "\n",
    "In the below code block we open the GraphQL schema for the Shopify store and parse out the **QueryRoot** objects.\n",
    "These are then directly passed into the system prompt, so that the Agent is aware of the objects it can query against.\n",
    "From the schema, a **QueryRoot** is `The schema's entry-point for queries. This acts as the public, top-level API from which all queries must start.` Because these obejcts are so critical to writing good queries, it's worth passing them into the agent.\n",
    "\n"
   ]
  },
  {
   "cell_type": "code",
   "execution_count": 2,
   "id": "792ac8b6-02aa-4858-8e65-7f78e6f73958",
   "metadata": {},
   "outputs": [
    {
     "name": "stdout",
     "output_type": "stream",
     "text": [
      "['abandonment', 'abandonmentByAbandonedCheckoutId', 'app', 'appByHandle', 'appByKey', 'appDiscountType', 'appDiscountTypes', 'appInstallation', 'appInstallations', 'automaticDiscount', 'automaticDiscountNode', 'automaticDiscountNodes', 'automaticDiscountSavedSearches', 'automaticDiscounts', 'availableCarrierServices', 'availableLocales', 'carrierService', 'channel', 'channels', 'checkoutProfile', 'checkoutProfiles', 'codeDiscountNode', 'codeDiscountNodeByCode', 'codeDiscountNodes', 'codeDiscountSavedSearches', 'collection', 'collectionByHandle', 'collectionRulesConditions', 'collectionSavedSearches', 'collections', 'companies', 'company', 'companyContact', 'companyContactRole', 'companyCount', 'companyLocation', 'companyLocations', 'currentAppInstallation', 'currentBulkOperation', 'customer', 'customerPaymentMethod', 'customerSegmentMembers', 'customerSegmentMembersQuery', 'customerSegmentMembership', 'customers', 'deletionEvents', 'deliveryProfile', 'deliveryProfiles', 'deliverySettings', 'discountCodeCount', 'discountNode', 'discountNodes', 'discountRedeemCodeBulkCreation', 'discountRedeemCodeSavedSearches', 'dispute', 'disputeEvidence', 'domain', 'draftOrder', 'draftOrderSavedSearches', 'draftOrderTag', 'draftOrders', 'fileSavedSearches', 'files', 'fulfillment', 'fulfillmentOrder', 'fulfillmentOrders', 'fulfillmentService', 'giftCard', 'giftCards', 'giftCardsCount', 'inventoryItem', 'inventoryItems', 'inventoryLevel', 'inventoryProperties', 'job', 'location', 'locations', 'locationsAvailableForDeliveryProfiles', 'locationsAvailableForDeliveryProfilesConnection', 'manualHoldsFulfillmentOrders', 'market', 'marketByGeography', 'marketLocalizableResource', 'marketLocalizableResources', 'marketLocalizableResourcesByIds', 'marketingActivities', 'marketingActivity', 'marketingEvent', 'marketingEvents', 'markets', 'metafield', 'metafieldDefinition', 'metafieldDefinitionTypes', 'metafieldDefinitions', 'metafieldStorefrontVisibilities', 'metafieldStorefrontVisibility', 'metaobject', 'metaobjectByHandle', 'metaobjectDefinition', 'metaobjectDefinitionByType', 'metaobjectDefinitions', 'metaobjects', 'node', 'nodes', 'order', 'orderPaymentStatus', 'orderSavedSearches', 'orders', 'paymentTermsTemplates', 'priceList', 'priceLists', 'priceRule', 'priceRuleSavedSearches', 'priceRules', 'primaryMarket', 'privateMetafield', 'privateMetafields', 'product', 'productByHandle', 'productResourceFeedback', 'productSavedSearches', 'productVariant', 'productVariants', 'products', 'publicApiVersions', 'publication', 'publications', 'refund', 'return', 'returnableFulfillment', 'returnableFulfillments', 'reverseDelivery', 'reverseFulfillmentOrder', 'scriptTag', 'scriptTags', 'segment', 'segmentCount', 'segmentFilterSuggestions', 'segmentFilters', 'segmentMigrations', 'segmentValueSuggestions', 'segments', 'sellingPlanGroup', 'sellingPlanGroups', 'shop', 'shopLocales', 'shopifyPaymentsAccount', 'shopifyqlQuery', 'staffMember', 'standardMetafieldDefinitionTemplates', 'subscriptionBillingAttempt', 'subscriptionBillingCycle', 'subscriptionBillingCycles', 'subscriptionContract', 'subscriptionContracts', 'subscriptionDraft', 'tenderTransactions', 'translatableResource', 'translatableResources', 'translatableResourcesByIds', 'urlRedirect', 'urlRedirectImport', 'urlRedirectSavedSearches', 'urlRedirects', 'webPixel', 'webhookSubscription', 'webhookSubscriptions']\n"
     ]
    }
   ],
   "source": [
    "import json\n",
    "from graphql import parse\n",
    "\n",
    "with open('data/shopify_graphql.txt', 'r') as f:\n",
    "    txt = f.read()\n",
    "\n",
    "ast = parse(txt)\n",
    "\n",
    "query_root_node = next(\n",
    "    (\n",
    "        defn\n",
    "        for defn in ast.definitions\n",
    "        if defn.kind == \"object_type_definition\" and defn.name.value == \"QueryRoot\"\n",
    "    )\n",
    ")\n",
    "query_roots = [field.name.value for field in query_root_node.fields]\n",
    "print(query_roots)\n"
   ]
  },
  {
   "cell_type": "markdown",
   "id": "a6bab757-efc1-4c05-a369-99cb8034e1b9",
   "metadata": {},
   "source": [
    "## Setting up UnstructuredReader and OnDemandLoaderTool\n",
    "\n",
    "We've successfully parsed out the **QueryRoot** fields that are usable for top level GraphQL queries. Now we can combine the **UnstructuredReader** and **OnDemandLoaderTool** to create an interface that our Agent can use to query and process the GraphQL schema.\n",
    "\n",
    "The **UnstructuredReader** is consuming our GraphQL spec and intelligently breaking it into chunks using the https://pypi.org/project/unstructured/ library. By wrapping the **UnstructuredReader** with the **OnDemandLoaderTool**, there is essentially a sub-model that is processing our query_str, retriving any relevant chunks of data from the GraphQL schema, and then intrpreting those chunks in relation to our query. This lets us ask arbitrary natural language questions, and get back intelligent responses based on the GraphQL schema."
   ]
  },
  {
   "cell_type": "code",
   "execution_count": 3,
   "id": "a7c72b54-3d16-427f-ae6b-07fbba2e0d58",
   "metadata": {},
   "outputs": [
    {
     "name": "stderr",
     "output_type": "stream",
     "text": [
      "[nltk_data] Downloading package punkt to\n",
      "[nltk_data]     /Users/adamhofmann/nltk_data...\n",
      "[nltk_data]   Package punkt is already up-to-date!\n",
      "[nltk_data] Downloading package averaged_perceptron_tagger to\n",
      "[nltk_data]     /Users/adamhofmann/nltk_data...\n",
      "[nltk_data]   Package averaged_perceptron_tagger is already up-to-\n",
      "[nltk_data]       date!\n"
     ]
    },
    {
     "name": "stdout",
     "output_type": "stream",
     "text": [
      "\n",
      "query {\n",
      "  products(first: 3) {\n",
      "    edges {\n",
      "      node {\n",
      "        title\n",
      "        vendor\n",
      "        productType\n",
      "      }\n",
      "    }\n",
      "  }\n",
      "}\n",
      "\n",
      "From the products object, you can retrieve the following fields: id, title, handle, description, descriptionHtml, productType, tags, vendor, publishedAt, createdAt, updatedAt, onlineStoreUrl, images, options, variants, totalInventory, totalVariants, publishedChannels, unpublishedChannels, publishedPublications, unpublishedPublications, templateSuffix, seo, status, storefrontId, tracksInventory, translations, and vendor.\n"
     ]
    }
   ],
   "source": [
    "from llama_hub.file.unstructured.base import UnstructuredReader\n",
    "from llama_index.tools.ondemand_loader_tool import OnDemandLoaderTool\n",
    "\n",
    "documentation_tool = OnDemandLoaderTool.from_defaults(\n",
    "    UnstructuredReader(),\n",
    "    name=\"graphql_writer\",\n",
    "    description=\"\"\"\n",
    "        The GraphQL schema file is located at './data/shopify_graphql.txt', this is always the file argument.\n",
    "        A tool for processing the Shopify GraphQL spec, and writing queries from the documentation.\n",
    "\n",
    "        You should pass a query_str to this tool in the form of a request to write a GraphQL query.\n",
    "\n",
    "        Examples:\n",
    "            file: './data/shopify_graphql.txt', query_str='Write a graphql query to find unshipped orders'\n",
    "            file: './data/shopify_graphql.txt', query_str='Write a graphql query to retrieve the stores products'\n",
    "            file: './data/shopify_graphql.txt', query_str='What fields can you retrieve from the orders object'\n",
    "        \"\"\"\n",
    ")\n",
    "\n",
    "print(documentation_tool('./data/shopify_graphql.txt', query_str='Write a graphql query to retrieve the first 3 products from a store'))\n",
    "print(documentation_tool('./data/shopify_graphql.txt', query_str='what fields can you retrieve from the products object'))"
   ]
  },
  {
   "cell_type": "markdown",
   "id": "c513c6fa-6205-43a5-b140-539c21ec0a56",
   "metadata": {},
   "source": [
    "## Setting up the Shopify Tool\n",
    "\n",
    "We've now set up a tool that ourselves or an Agent can call with natural language, and get information or create queries based on our schema. We can now initialize the Shopify tool and even test it out with the prompt that was written, adding in some of the extra fields the documentation returned us:"
   ]
  },
  {
   "cell_type": "code",
   "execution_count": 4,
   "id": "564a1e6d-0dc4-4bed-a6c5-38abf9a3f804",
   "metadata": {},
   "outputs": [
    {
     "data": {
      "text/plain": [
       "'{\"data\":{\"products\":{\"edges\":[{\"node\":{\"title\":\"The Minimal Snowboard\",\"vendor\":\"Quickstart (6b2c02b2)\",\"productType\":\"\",\"status\":\"ACTIVE\"}},{\"node\":{\"title\":\"The Videographer Snowboard\",\"vendor\":\"Quickstart (6b2c02b2)\",\"productType\":\"\",\"status\":\"ACTIVE\"}},{\"node\":{\"title\":\"The Draft Snowboard\",\"vendor\":\"Snowboard Vendor\",\"productType\":\"\",\"status\":\"DRAFT\"}}]}},\"extensions\":{\"cost\":{\"requestedQueryCost\":5,\"actualQueryCost\":5,\"throttleStatus\":{\"maximumAvailable\":1000.0,\"currentlyAvailable\":995,\"restoreRate\":50.0}}}}'"
      ]
     },
     "execution_count": 4,
     "metadata": {},
     "output_type": "execute_result"
    }
   ],
   "source": [
    "from llama_hub.tools.shopify.base import ShopifyToolSpec\n",
    "shopify_tool = ShopifyToolSpec('your-store.myshopify.com', '2023-04', 'your-api-key')\n",
    "\n",
    "shopify_tool.run_graphql_query(\"\"\"\n",
    "query {\n",
    "  products(first: 3) {\n",
    "    edges {\n",
    "      node {\n",
    "        title\n",
    "        vendor\n",
    "        productType\n",
    "        status\n",
    "      }\n",
    "    }\n",
    "  }\n",
    "}\"\"\")"
   ]
  },
  {
   "cell_type": "markdown",
   "id": "7c1ab5d7-1919-4a5d-9e80-cd2615f43aee",
   "metadata": {},
   "source": [
    "## Creating a Data Agent\n",
    "\n",
    "So now we have two tools, one that can create working GraphQL queries and provide information from a GraphQL schema using natural language strings, and one that can execute the GraphQL queries and return the results.\n",
    "\n",
    "Our next step is to pass these tools to a Data Agent, and allow them access to use the tools and interpret the outputs for the user. We supply the Agent with a system prompt on initilization that gives them some extra info, like the **QueryRoot** objects we processed above, and some instructions on how to effectively use the tools:"
   ]
  },
  {
   "cell_type": "code",
   "execution_count": 5,
   "id": "ac4bc289-f124-49f2-bbd0-7e4c816c8924",
   "metadata": {},
   "outputs": [],
   "source": [
    "# Create the Agent with access to our tools\n",
    "from llama_index.agent import OpenAIAgent\n",
    "agent = OpenAIAgent.from_tools(\n",
    "    [*shopify_tool.to_tool_list(), documentation_tool],\n",
    "    system_prompt=f\"\"\"\n",
    "    You are a specialized Agent with access to the Shopify Admin GraphQL API for this Users online store.\n",
    "    Your job is to chat with store owners and help them run GraphQL queries, interpreting the results for the user\n",
    "    \n",
    "    For you conveinence, the QueryRoot objects are listed here.\n",
    "    \n",
    "    {query_roots}\n",
    "    \n",
    "    QueryRoots are the schema's entry-point for queries. This acts as the public, top-level API from which all queries must start.\n",
    "    \n",
    "    You can use graphql_writer to query the schema and assist in writing queries.\n",
    "    \n",
    "    If the GraphQL you execute returns an error, either directly fix the query, or directly ask the graphql_writer questions about the schema instead of writing graphql queries.\n",
    "    Then use that information to write the correct graphql query\n",
    "    \"\"\",\n",
    "    verbose=True,\n",
    "    max_function_calls=20\n",
    ")"
   ]
  },
  {
   "cell_type": "code",
   "execution_count": 6,
   "id": "9d48fcdd-1802-4340-87f2-0e4bd653c495",
   "metadata": {},
   "outputs": [
    {
     "name": "stdout",
     "output_type": "stream",
     "text": [
      "=== Calling Function ===\n",
      "Calling function: graphql_writer with args: {\n",
      "  \"file\": \"./data/shopify_graphql.txt\",\n",
      "  \"query_str\": \"Write a graphql query to retrieve the stores recent orders\"\n",
      "}\n",
      "Got output: \n",
      "query {\n",
      "  orders(first: 60, sortKey: CREATED_AT, reverse: true) {\n",
      "    edges {\n",
      "      node {\n",
      "        id\n",
      "        createdAt\n",
      "        billingAddress {\n",
      "          address1\n",
      "          address2\n",
      "          city\n",
      "          province\n",
      "          country\n",
      "          zip\n",
      "        }\n",
      "      }\n",
      "    }\n",
      "  }\n",
      "}\n",
      "========================\n",
      "=== Calling Function ===\n",
      "Calling function: run_graphql_query with args: {\n",
      "  \"graphql_query\": \"query {\\n  orders(first: 60, sortKey: CREATED_AT, reverse: true) {\\n    edges {\\n      node {\\n        id\\n        createdAt\\n        billingAddress {\\n          address1\\n          address2\\n          city\\n          province\\n          country\\n          zip\\n        }\\n      }\\n    }\\n  }\\n}\"\n",
      "}\n",
      "Got output: {\"data\":{\"orders\":{\"edges\":[{\"node\":{\"id\":\"gid://shopify/Order/5474475245846\",\"createdAt\":\"2023-08-01T16:01:32Z\",\"billingAddress\":{\"address1\":\"105 Victoria St\",\"address2\":null,\"city\":\"Toronto\",\"province\":null,\"country\":\"Canada\",\"zip\":\"M5C1N7\"}}},{\"node\":{\"id\":\"gid://shopify/Order/5474475180310\",\"createdAt\":\"2023-08-01T16:01:32Z\",\"billingAddress\":{\"address1\":\"105 Victoria St\",\"address2\":null,\"city\":\"Toronto\",\"province\":null,\"country\":\"Canada\",\"zip\":\"M5C1N7\"}}},{\"node\":{\"id\":\"gid://shopify/Order/5474475147542\",\"createdAt\":\"2023-08-01T16:01:31Z\",\"billingAddress\":null}},{\"node\":{\"id\":\"gid://shopify/Order/5474475082006\",\"createdAt\":\"2023-08-01T16:01:31Z\",\"billingAddress\":null}},{\"node\":{\"id\":\"gid://shopify/Order/5474475049238\",\"createdAt\":\"2023-08-01T16:01:31Z\",\"billingAddress\":null}},{\"node\":{\"id\":\"gid://shopify/Order/5474475016470\",\"createdAt\":\"2023-08-01T16:01:31Z\",\"billingAddress\":{\"address1\":\"105 Victoria St\",\"address2\":null,\"city\":\"Toronto\",\"province\":null,\"country\":\"Canada\",\"zip\":\"M5C1N7\"}}},{\"node\":{\"id\":\"gid://shopify/Order/5474474950934\",\"createdAt\":\"2023-08-01T16:01:30Z\",\"billingAddress\":null}},{\"node\":{\"id\":\"gid://shopify/Order/5474474885398\",\"createdAt\":\"2023-08-01T16:01:30Z\",\"billingAddress\":{\"address1\":\"105 Victoria St\",\"address2\":null,\"city\":\"Toronto\",\"province\":null,\"country\":\"Canada\",\"zip\":\"M5C1N7\"}}},{\"node\":{\"id\":\"gid://shopify/Order/5474474819862\",\"createdAt\":\"2023-08-01T16:01:30Z\",\"billingAddress\":null}},{\"node\":{\"id\":\"gid://shopify/Order/5474474852630\",\"createdAt\":\"2023-08-01T16:01:30Z\",\"billingAddress\":null}}]}},\"extensions\":{\"cost\":{\"requestedQueryCost\":122,\"actualQueryCost\":22,\"throttleStatus\":{\"maximumAvailable\":1000.0,\"currentlyAvailable\":978,\"restoreRate\":50.0}}}}\n",
      "========================\n",
      "Your store has received the following recent orders:\n",
      "\n",
      "1. Order ID: gid://shopify/Order/5474475245846\n",
      "   - Created At: 2023-08-01T16:01:32Z\n",
      "   - Billing Address: \n",
      "     - Address 1: 105 Victoria St\n",
      "     - City: Toronto\n",
      "     - Country: Canada\n",
      "     - Zip: M5C1N7\n",
      "\n",
      "2. Order ID: gid://shopify/Order/5474475180310\n",
      "   - Created At: 2023-08-01T16:01:32Z\n",
      "   - Billing Address: \n",
      "     - Address 1: 105 Victoria St\n",
      "     - City: Toronto\n",
      "     - Country: Canada\n",
      "     - Zip: M5C1N7\n",
      "\n",
      "3. Order ID: gid://shopify/Order/5474475147542\n",
      "   - Created At: 2023-08-01T16:01:31Z\n",
      "   - Billing Address: Not available\n",
      "\n",
      "4. Order ID: gid://shopify/Order/5474475082006\n",
      "   - Created At: 2023-08-01T16:01:31Z\n",
      "   - Billing Address: Not available\n",
      "\n",
      "5. Order ID: gid://shopify/Order/5474475049238\n",
      "   - Created At: 2023-08-01T16:01:31Z\n",
      "   - Billing Address: Not available\n",
      "\n",
      "Please note that the billing address is not available for some of the orders.\n"
     ]
    }
   ],
   "source": [
    "print(agent.chat('What orders has my store received recently'))"
   ]
  },
  {
   "cell_type": "code",
   "execution_count": 7,
   "id": "2ba4e809-c407-4ff2-9d93-5db2fa4342e5",
   "metadata": {},
   "outputs": [
    {
     "name": "stdout",
     "output_type": "stream",
     "text": [
      "=== Calling Function ===\n",
      "Calling function: graphql_writer with args: {\n",
      "  \"file\": \"./data/shopify_graphql.txt\",\n",
      "  \"query_str\": \"Write a graphql query to retrieve the stores products with low inventory\"\n",
      "}\n",
      "Got output: \n",
      "query {\n",
      "  products(first: 10, query: \"inventory_total:<10\") {\n",
      "    edges {\n",
      "      node {\n",
      "        title\n",
      "        inventoryTotal\n",
      "      }\n",
      "    }\n",
      "  }\n",
      "}\n",
      "========================\n",
      "=== Calling Function ===\n",
      "Calling function: run_graphql_query with args: {\n",
      "  \"graphql_query\": \"query {\\n  products(first: 10, query: \\\"inventory_total:<10\\\") {\\n    edges {\\n      node {\\n        title\\n        inventoryTotal\\n      }\\n    }\\n  }\\n}\"\n",
      "}\n",
      "Got output: {\"errors\":[{\"message\":\"Field 'inventoryTotal' doesn't exist on type 'Product'\",\"locations\":[{\"line\":6,\"column\":9}],\"path\":[\"query\",\"products\",\"edges\",\"node\",\"inventoryTotal\"],\"extensions\":{\"code\":\"undefinedField\",\"typeName\":\"Product\",\"fieldName\":\"inventoryTotal\"}}]}\n",
      "========================\n",
      "=== Calling Function ===\n",
      "Calling function: graphql_writer with args: {\n",
      "  \"file\": \"./data/shopify_graphql.txt\",\n",
      "  \"query_str\": \"What fields can you retrieve from the product object\"\n",
      "}\n",
      "Got output: \n",
      "From the product object, you can retrieve the following fields: id, title, handle, description, descriptionHtml, productType, tags, vendor, publishedAt, createdAt, updatedAt, onlineStoreUrl, images, variants, totalInventory, totalVariants, publishedChannels, unpublishedChannels, publishedPublications, unpublishedPublications, collections, options, metafields, seo, standardizedProductType, status, templateSuffix, storefrontId, translations, tracksInventory, vendor.\n",
      "========================\n",
      "=== Calling Function ===\n",
      "Calling function: graphql_writer with args: {\n",
      "  \"file\": \"./data/shopify_graphql.txt\",\n",
      "  \"query_str\": \"Write a graphql query to retrieve the stores products and their inventory levels\"\n",
      "}\n",
      "Got output: \n",
      "query {\n",
      "  products {\n",
      "    edges {\n",
      "      node {\n",
      "        title\n",
      "        variants {\n",
      "          edges {\n",
      "            node {\n",
      "              title\n",
      "              inventoryQuantity\n",
      "            }\n",
      "          }\n",
      "        }\n",
      "      }\n",
      "    }\n",
      "  }\n",
      "}\n",
      "========================\n",
      "=== Calling Function ===\n",
      "Calling function: run_graphql_query with args: {\n",
      "  \"graphql_query\": \"query {\\n  products {\\n    edges {\\n      node {\\n        title\\n        variants {\\n          edges {\\n            node {\\n              title\\n              inventoryQuantity\\n            }\\n          }\\n        }\\n      }\\n    }\\n  }\\n}\"\n",
      "}\n",
      "Got output: {\"data\":null,\"errors\":[{\"message\":\"you must provide one of first or last\",\"locations\":[{\"line\":2,\"column\":3}],\"path\":[\"products\"]}],\"extensions\":{\"cost\":{\"requestedQueryCost\":2,\"actualQueryCost\":2,\"throttleStatus\":{\"maximumAvailable\":1000.0,\"currentlyAvailable\":998,\"restoreRate\":50.0}}}}\n",
      "========================\n",
      "=== Calling Function ===\n",
      "Calling function: run_graphql_query with args: {\n",
      "  \"graphql_query\": \"query {\\n  products(first: 10) {\\n    edges {\\n      node {\\n        title\\n        variants(first: 1) {\\n          edges {\\n            node {\\n              title\\n              inventoryQuantity\\n            }\\n          }\\n        }\\n      }\\n    }\\n  }\\n}\"\n",
      "}\n",
      "Got output: {\"data\":{\"products\":{\"edges\":[{\"node\":{\"title\":\"The Minimal Snowboard\",\"variants\":{\"edges\":[{\"node\":{\"title\":\"Default Title\",\"inventoryQuantity\":39}}]}}},{\"node\":{\"title\":\"The Videographer Snowboard\",\"variants\":{\"edges\":[{\"node\":{\"title\":\"Default Title\",\"inventoryQuantity\":50}}]}}},{\"node\":{\"title\":\"The Draft Snowboard\",\"variants\":{\"edges\":[{\"node\":{\"title\":\"Default Title\",\"inventoryQuantity\":20}}]}}},{\"node\":{\"title\":\"The Complete Snowboard\",\"variants\":{\"edges\":[{\"node\":{\"title\":\"Ice\",\"inventoryQuantity\":2}}]}}},{\"node\":{\"title\":\"The Archived Snowboard\",\"variants\":{\"edges\":[{\"node\":{\"title\":\"Default Title\",\"inventoryQuantity\":50}}]}}},{\"node\":{\"title\":\"The Hidden Snowboard\",\"variants\":{\"edges\":[{\"node\":{\"title\":\"Default Title\",\"inventoryQuantity\":50}}]}}},{\"node\":{\"title\":\"The Collection Snowboard: Hydrogen\",\"variants\":{\"edges\":[{\"node\":{\"title\":\"Default Title\",\"inventoryQuantity\":50}}]}}},{\"node\":{\"title\":\"The Out of Stock Snowboard\",\"variants\":{\"edges\":[{\"node\":{\"title\":\"Default Title\",\"inventoryQuantity\":0}}]}}},{\"node\":{\"title\":\"Gift Card\",\"variants\":{\"edges\":[{\"node\":{\"title\":\"$10\",\"inventoryQuantity\":0}}]}}},{\"node\":{\"title\":\"The Inventory Not Tracked Snowboard\",\"variants\":{\"edges\":[{\"node\":{\"title\":\"Default Title\",\"inventoryQuantity\":0}}]}}}]}},\"extensions\":{\"cost\":{\"requestedQueryCost\":42,\"actualQueryCost\":42,\"throttleStatus\":{\"maximumAvailable\":1000.0,\"currentlyAvailable\":958,\"restoreRate\":50.0}}}}\n",
      "========================\n",
      "Here are the products in your store and their inventory levels:\n",
      "\n",
      "1. Product: The Minimal Snowboard\n",
      "   - Variant: Default Title\n",
      "   - Inventory Quantity: 39\n",
      "\n",
      "2. Product: The Videographer Snowboard\n",
      "   - Variant: Default Title\n",
      "   - Inventory Quantity: 50\n",
      "\n",
      "3. Product: The Draft Snowboard\n",
      "   - Variant: Default Title\n",
      "   - Inventory Quantity: 20\n",
      "\n",
      "4. Product: The Complete Snowboard\n",
      "   - Variant: Ice\n",
      "   - Inventory Quantity: 2\n",
      "\n",
      "5. Product: The Archived Snowboard\n",
      "   - Variant: Default Title\n",
      "   - Inventory Quantity: 50\n",
      "\n",
      "6. Product: The Hidden Snowboard\n",
      "   - Variant: Default Title\n",
      "   - Inventory Quantity: 50\n",
      "\n",
      "7. Product: The Collection Snowboard: Hydrogen\n",
      "   - Variant: Default Title\n",
      "   - Inventory Quantity: 50\n",
      "\n",
      "8. Product: The Out of Stock Snowboard\n",
      "   - Variant: Default Title\n",
      "   - Inventory Quantity: 0\n",
      "\n",
      "9. Product: Gift Card\n",
      "   - Variant: $10\n",
      "   - Inventory Quantity: 0\n",
      "\n",
      "10. Product: The Inventory Not Tracked Snowboard\n",
      "    - Variant: Default Title\n",
      "    - Inventory Quantity: 0\n",
      "\n",
      "Please note that the inventory quantities are subject to change.\n"
     ]
    }
   ],
   "source": [
    "print(agent.chat('are any of my products out of stock'))"
   ]
  },
  {
   "cell_type": "markdown",
   "id": "4afa63f7-fe30-4792-8b63-87a14409430f",
   "metadata": {},
   "source": [
    "## Conclusion\n",
    "\n",
    "We can see the Agent was able to handle the errors from the GraphQL endpoint to modify the queries, and used our documentation tool to gather more information on the schema to ulimately return a helpful response to the user. Neat!"
   ]
  },
  {
   "cell_type": "code",
   "execution_count": null,
   "id": "b4f1f0b6-dd8f-4a9b-bf3b-0db2cb5ca5e5",
   "metadata": {},
   "outputs": [],
   "source": []
  }
 ],
 "metadata": {
  "kernelspec": {
   "display_name": "Python 3 (ipykernel)",
   "language": "python",
   "name": "python3"
  },
  "language_info": {
   "codemirror_mode": {
    "name": "ipython",
    "version": 3
   },
   "file_extension": ".py",
   "mimetype": "text/x-python",
   "name": "python",
   "nbconvert_exporter": "python",
   "pygments_lexer": "ipython3",
   "version": "3.9.12"
  }
 },
 "nbformat": 4,
 "nbformat_minor": 5
}
